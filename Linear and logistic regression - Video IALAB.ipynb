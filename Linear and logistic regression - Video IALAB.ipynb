{
 "cells": [
  {
   "cell_type": "markdown",
   "metadata": {},
   "source": [
    "<h1><center>Introduction to linear and logistic regression </center></h1>"
   ]
  },
  {
   "cell_type": "markdown",
   "metadata": {},
   "source": [
    "<img src=\"https://zupimages.net/up/18/42/h04k.png\" height=\"200\" width=\"200\"/>\n",
    "\n",
    "Ce cours est réalisé dans le cadre de la formation proprosée par l'I.A Lab\n",
    "\n",
    "<h2><center> Sommaire </center></h2>\n",
    "\n",
    "<p> <b>1.1 Introduction</b> </p>\n",
    "<p> <b>2.0 Régression linéaire</b></p>\n",
    "<p> &nbsp;&nbsp;&nbsp;&nbsp;&nbsp;2.1 Théorie</p>\n",
    "<p> &nbsp;&nbsp;&nbsp;&nbsp;&nbsp;2.2 Application</p>\n",
    "<p> <b>3.0 Régression logistique</b></p>\n",
    "<p> &nbsp;&nbsp;&nbsp;&nbsp;&nbsp;3.1 Théorie</p>\n",
    "<p> &nbsp;&nbsp;&nbsp;&nbsp;&nbsp;3.2 Application</p>"
   ]
  },
  {
   "cell_type": "markdown",
   "metadata": {},
   "source": [
    "<h2><center> Introduction </center></h2>\n",
    "\n",
    "### Intelligence artificielle,machine and deep learning...?\n",
    "<img src=\"https://zupimages.net/up/18/42/66s1.png\" height=500 width=500/>\n",
    "\n",
    "<b>Intelligence artificielle </b><br>\n",
    "<i>L'Intelligence Artificielle (IA) est la science dont le but est de faire faire par une machine des\n",
    "tâches que l'homme accomplit en utilisant son intelligence.</i>-Introduction à L'IA, NormalSup<br>\n",
    "<b>Machine learning</b><br>\n",
    "Technique utilisée par L'I.A, capacité d'un ordinateur à apprendre y avoir été préalablement programmé.<br>\n",
    "<b>Deep learning</b><br>\n",
    "Technique basée sur les réseaux de neuronnes qui prends son intérêt lorsque l'on dispose de jeux de données conséquents et d'une forte puissance de calcul (GPU). Contrairement au machine learning, l'on a pas besoins de spécifiés les attributs des entrées (images, videos,etc), il sont extrait de de façon automatique via le réseaux de neurones qui apprend( en ajustant ses poids) à l'aide un mécanisme appellé rétropropagation(Backpropagation).\n",
    "\n"
   ]
  },
  {
   "cell_type": "markdown",
   "metadata": {},
   "source": [
    "### Le choix du modèle: \n",
    "<img src=\"Ressources/ia_map.png\" height=500 width=500/>\n",
    "\n",
    "<b>Apprentissage supervisé:</b>  utilisation d'un ensemble de données étiquetés.<br>\n",
    "<b>Apprentissage non supervisé:</b> utilisation d'un ensemble de points fournis à un algorithme qui va tenter de trouver une structure entre eux.<br>\n",
    "<b>Apprentissage par renforcement:</b> le but est de l'algorithme est d'apprendre les actions et décisions à prendre à partir d'experience passées dans le but de maximiser la récompense finale.\n",
    "\n",
    "\n",
    "<i>« La majeure partie de l’apprentissage effectué par les humains et les animaux n’est pas supervisée. Si l’intelligence était un gâteau, l’apprentissage non supervisé serait le gâteau, l’apprentissage supervisé serait le glaçage et l’apprentissage par renforcement serait la cerise sur le gâteau. Nous savons comment faire le glaçage et la cerise, mais nous ne savons pas comment faire le gâteau », a-t-il écrit sur son profil. Et il ne s’agit-là que d’un des défis que doit surmonter la communauté des scientifiques.\n",
    "\n",
    "«  Nous devons résoudre le problème de l’apprentissage non supervisé avant même de penser à obtenir une vraie intelligence artificielle. Et c’est juste un obstacle que nous connaissons. Que dire de tous ceux que nous ne connaissons pas ? »<i> - Yann Le Cun\n"
   ]
  },
  {
   "cell_type": "markdown",
   "metadata": {},
   "source": [
    "## Régression linéaire"
   ]
  },
  {
   "cell_type": "markdown",
   "metadata": {},
   "source": [
    "<b> Définition </b><br>\n",
    "Problème de régression à plusieurs variables ayant pour objectif pour de calculer l'équation qui réprésente au mieu le lien entre ces variables. On peut distinguer deux types de variables : la cible (ou target) que l'on veut approcher, puis attributs que l'on va utiliser pour construire ce modèl.<br>\n",
    "\n",
    "Peut-on prédire la masse du cerveau d'un individu en connaissant le volume de son cerveau.\n",
    "\n",
    "<b>A partir d’une valeur donnée continue ou discrète (l’attribut) nous allons chercher à déduire une valeur continue (la cible).</b>\n",
    "\n",
    "<b>En d’autre termes, quelle relation peut-on trouver entre le volume crânien d’un individu et la masse de son cerveau?</b>\n",
    "\n",
    "<img src=\"https://zupimages.net/up/18/42/nxhh.png\"/>"
   ]
  },
  {
   "cell_type": "markdown",
   "metadata": {},
   "source": [
    "Comment traduire tout cela mathématiquement? Comment trouver la valeur de ces variables?\n",
    "Pour ce faire on peut utiliser la <b> méthode des moindres carrés </b>\n",
    "$$ y=b_0+b_1x $$\n",
    "\n",
    "\n",
    "$$ b_1=\\frac{\\sum_{n=1}^{N} (X_i-\\bar{x})(Y_i-\\bar{y})}{\\sum_{n=1}^{N}(X_i-\\bar{x})^2}$$\n",
    "\n",
    "$$ b_0=\\bar{y}-b_1\\bar{x} $$\n",
    "\n",
    "<b> Il est important de noter que dans ce cas nous avons utilisé un modèle à une seule variable d'entrée, mais il est tout à fait possible de l'étendre afin d'utiliser plusieurs attributs pour réaliser une prédiction. Dans ce cas nous n'utiliserions pas des variables simples mais des matrices qui pourraient se traduire sous cette forme </b>\n",
    "$$ y=b_0+WX $$\n",
    "avec $ X=\\begin{bmatrix} x_1 \\ x_2 \\ ... \\ x_n \\end{bmatrix} $ le vecteur d'attribut et $ W=\\begin{bmatrix} w_1 \\\\ w_2 \\\\ ... \\\\ w_n\\end{bmatrix}$ la matrice de poids."
   ]
  },
  {
   "cell_type": "code",
   "execution_count": 21,
   "metadata": {
    "collapsed": true
   },
   "outputs": [],
   "source": [
    "# On commence par importer les librairies dont nous auront besoin\n",
    "import numpy as np\n",
    "import pandas as pd\n",
    "import matplotlib.pyplot as plt\n",
    "from math import exp"
   ]
  },
  {
   "cell_type": "code",
   "execution_count": 22,
   "metadata": {},
   "outputs": [
    {
     "data": {
      "text/html": [
       "<div>\n",
       "<style>\n",
       "    .dataframe thead tr:only-child th {\n",
       "        text-align: right;\n",
       "    }\n",
       "\n",
       "    .dataframe thead th {\n",
       "        text-align: left;\n",
       "    }\n",
       "\n",
       "    .dataframe tbody tr th {\n",
       "        vertical-align: top;\n",
       "    }\n",
       "</style>\n",
       "<table border=\"1\" class=\"dataframe\">\n",
       "  <thead>\n",
       "    <tr style=\"text-align: right;\">\n",
       "      <th></th>\n",
       "      <th>Gender</th>\n",
       "      <th>Age Range</th>\n",
       "      <th>Head Size(cm^3)</th>\n",
       "      <th>Brain Weight(grams)</th>\n",
       "    </tr>\n",
       "  </thead>\n",
       "  <tbody>\n",
       "    <tr>\n",
       "      <th>0</th>\n",
       "      <td>1</td>\n",
       "      <td>1</td>\n",
       "      <td>4512</td>\n",
       "      <td>1530</td>\n",
       "    </tr>\n",
       "    <tr>\n",
       "      <th>1</th>\n",
       "      <td>1</td>\n",
       "      <td>1</td>\n",
       "      <td>3738</td>\n",
       "      <td>1297</td>\n",
       "    </tr>\n",
       "    <tr>\n",
       "      <th>2</th>\n",
       "      <td>1</td>\n",
       "      <td>1</td>\n",
       "      <td>4261</td>\n",
       "      <td>1335</td>\n",
       "    </tr>\n",
       "    <tr>\n",
       "      <th>3</th>\n",
       "      <td>1</td>\n",
       "      <td>1</td>\n",
       "      <td>3777</td>\n",
       "      <td>1282</td>\n",
       "    </tr>\n",
       "    <tr>\n",
       "      <th>4</th>\n",
       "      <td>1</td>\n",
       "      <td>1</td>\n",
       "      <td>4177</td>\n",
       "      <td>1590</td>\n",
       "    </tr>\n",
       "  </tbody>\n",
       "</table>\n",
       "</div>"
      ],
      "text/plain": [
       "   Gender  Age Range  Head Size(cm^3)  Brain Weight(grams)\n",
       "0       1          1             4512                 1530\n",
       "1       1          1             3738                 1297\n",
       "2       1          1             4261                 1335\n",
       "3       1          1             3777                 1282\n",
       "4       1          1             4177                 1590"
      ]
     },
     "execution_count": 22,
     "metadata": {},
     "output_type": "execute_result"
    }
   ],
   "source": [
    "data=pd.read_csv(\"headbrain.csv\") # on importe le data set\n",
    "data.head() # affichage du dataset"
   ]
  },
  {
   "cell_type": "code",
   "execution_count": 6,
   "metadata": {
    "scrolled": false
   },
   "outputs": [
    {
     "data": {
      "image/png": "[encoded data removed]",
      "text/plain": [
       "<matplotlib.figure.Figure at 0x1ad85d0a438>"
      ]
     },
     "metadata": {},
     "output_type": "display_data"
    }
   ],
   "source": [
    "X=data['Head Size(cm^3)'].values\n",
    "Y=data['Brain Weight(grams)'].values\n",
    "plt.plot(X,Y,'go')\n",
    "plt.show()"
   ]
  },
  {
   "cell_type": "code",
   "execution_count": 7,
   "metadata": {
    "collapsed": true
   },
   "outputs": [],
   "source": [
    "Xmean=np.mean(X)\n",
    "Ymean=np.mean(Y)\n",
    "B1UpSum=0\n",
    "B1DownSum=0\n",
    "for i in range(X.size):\n",
    "    B1UpSum+=(X[i]-Xmean)*(Y[i]-Ymean)\n",
    "    B1DownSum+=(X[i]-Xmean)**2\n",
    "    \n",
    "B1=B1UpSum/B1DownSum\n",
    "B0=Ymean-B1*Xmean"
   ]
  },
  {
   "cell_type": "code",
   "execution_count": 8,
   "metadata": {},
   "outputs": [
    {
     "data": {
      "image/png": "[encoded data removed]",
      "text/plain": [
       "<matplotlib.figure.Figure at 0x1ad862c3be0>"
      ]
     },
     "metadata": {},
     "output_type": "display_data"
    }
   ],
   "source": [
    "Line=B0+B1*X\n",
    "plt.plot(X,Y,'go')\n",
    "plt.plot(X,Line)\n",
    "plt.show()"
   ]
  },
  {
   "cell_type": "code",
   "execution_count": 8,
   "metadata": {},
   "outputs": [
    {
     "data": {
      "text/html": [
       "<div>\n",
       "<style>\n",
       "    .dataframe thead tr:only-child th {\n",
       "        text-align: right;\n",
       "    }\n",
       "\n",
       "    .dataframe thead th {\n",
       "        text-align: left;\n",
       "    }\n",
       "\n",
       "    .dataframe tbody tr th {\n",
       "        vertical-align: top;\n",
       "    }\n",
       "</style>\n",
       "<table border=\"1\" class=\"dataframe\">\n",
       "  <thead>\n",
       "    <tr style=\"text-align: right;\">\n",
       "      <th></th>\n",
       "      <th>Gender</th>\n",
       "      <th>Age Range</th>\n",
       "      <th>Head Size(cm^3)</th>\n",
       "      <th>Brain Weight(grams)</th>\n",
       "      <th>Predicted</th>\n",
       "      <th>Error%</th>\n",
       "    </tr>\n",
       "  </thead>\n",
       "  <tbody>\n",
       "    <tr>\n",
       "      <th>0</th>\n",
       "      <td>1</td>\n",
       "      <td>1</td>\n",
       "      <td>4512</td>\n",
       "      <td>1530</td>\n",
       "      <td>1514.166601</td>\n",
       "      <td>1.034863</td>\n",
       "    </tr>\n",
       "    <tr>\n",
       "      <th>1</th>\n",
       "      <td>1</td>\n",
       "      <td>1</td>\n",
       "      <td>3738</td>\n",
       "      <td>1297</td>\n",
       "      <td>1310.272292</td>\n",
       "      <td>1.023307</td>\n",
       "    </tr>\n",
       "    <tr>\n",
       "      <th>2</th>\n",
       "      <td>1</td>\n",
       "      <td>1</td>\n",
       "      <td>4261</td>\n",
       "      <td>1335</td>\n",
       "      <td>1448.045837</td>\n",
       "      <td>8.467853</td>\n",
       "    </tr>\n",
       "    <tr>\n",
       "      <th>3</th>\n",
       "      <td>1</td>\n",
       "      <td>1</td>\n",
       "      <td>3777</td>\n",
       "      <td>1282</td>\n",
       "      <td>1320.546036</td>\n",
       "      <td>3.006711</td>\n",
       "    </tr>\n",
       "    <tr>\n",
       "      <th>4</th>\n",
       "      <td>1</td>\n",
       "      <td>1</td>\n",
       "      <td>4177</td>\n",
       "      <td>1590</td>\n",
       "      <td>1425.917772</td>\n",
       "      <td>10.319637</td>\n",
       "    </tr>\n",
       "  </tbody>\n",
       "</table>\n",
       "</div>"
      ],
      "text/plain": [
       "   Gender  Age Range  Head Size(cm^3)  Brain Weight(grams)    Predicted  \\\n",
       "0       1          1             4512                 1530  1514.166601   \n",
       "1       1          1             3738                 1297  1310.272292   \n",
       "2       1          1             4261                 1335  1448.045837   \n",
       "3       1          1             3777                 1282  1320.546036   \n",
       "4       1          1             4177                 1590  1425.917772   \n",
       "\n",
       "      Error%  \n",
       "0   1.034863  \n",
       "1   1.023307  \n",
       "2   8.467853  \n",
       "3   3.006711  \n",
       "4  10.319637  "
      ]
     },
     "execution_count": 8,
     "metadata": {},
     "output_type": "execute_result"
    }
   ],
   "source": [
    "def y(x):\n",
    "    return B0+B1*x\n",
    "\n",
    "Ypredicted=y(X)\n",
    "error=(abs(Ypredicted-Y))/Y*100\n",
    "\n",
    "data[\"Predicted\"]=Ypredicted\n",
    "data[\"Error%\"]=error\n",
    "data.head()"
   ]
  },
  {
   "cell_type": "markdown",
   "metadata": {},
   "source": [
    "On remarque que le taux d'erreur est acceptable mais pas parfait. Dans la prochaine partie nous allons nous intéresser au deuxième type de problème : la classification.<br>\n",
    "\n",
    "Pour approfondir"
   ]
  },
  {
   "cell_type": "markdown",
   "metadata": {},
   "source": [
    " <center><h2> Régression logistique</center></h2>"
   ]
  },
  {
   "cell_type": "markdown",
   "metadata": {},
   "source": [
    "## Définition\n",
    "Algorithme ayant pour but de prédire une valeurs de sortie dîte catégorique qui dépend directement d'autres variables numériques. \n",
    "\n",
    "\n",
    "## Le problème\n",
    "\n",
    "Contrairement à la regression linéaire dont le but est de prédire des valeurs continues ici on cherche à réaliser une <b> classification binaire. </b>\n",
    "Le but est de développer un algorithme qui aura pour but de détecter si une transaction est frauduleuse ou non. Pour cela, nous allons l'entraîner à l'aide d'un jeu de données que l'on présentera plus bas. A partir de celui-ci notre algorithme va "
   ]
  },
  {
   "cell_type": "markdown",
   "metadata": {},
   "source": [
    "## Le jeu de donnée\n",
    "\n",
    "Nous allons utiliser un jeu de données provenant du site Kaggle. Celui-ci comporte plus de 6 millions d'entrées sur des transactions passées et catalogué comment étant ou non frauduleuses ( 0 ou 1). Cependant celui-ci est inutilisable dans l'état actuel et nécessite quelques étapes de traîtements que nous allons décrire ici."
   ]
  },
  {
   "cell_type": "markdown",
   "metadata": {},
   "source": [
    "## Traitement du jeu de donnée\n",
    "\n",
    "<img src=\"https://zupimages.net/up/18/42/xrnm.png\" /><br>\n",
    "<b>Exemples d'outils de preprocessing</b><br>\n",
    "- Matrice de corrélation\n",
    "- PCA ( Analyse de composantes principales)\n",
    "\n",
    "<b>Qu'est-ce qu'un modèle?</b><br>\n",
    "Fonction complexe possédant un ensemble de paramètres ayant pour but d'approcher une solution réelle.<br>\n",
    "\n",
    "<b>Validation de l'erreur</b><br>\n",
    "- Quantification de l'erreur\n",
    "- Approfondir\n"
   ]
  },
  {
   "cell_type": "markdown",
   "metadata": {},
   "source": [
    "## Fonctionnement\n",
    "\n",
    "La regression linéaire découle  de la regression simple. La façon dont nous obtenons une valeur souhaité de 0 ou de 1 est que l'on ajoute à <b>la regression linéaire</b> traîtée précedement une <b>fonction logistique </b> dans laquelle on <b>remplace la variable par une formule de régression classique</b>.\n",
    "\n",
    "La définition de cette <b> fonction logistique </b> est:\n",
    "\n",
    "$$ y_{predicted}=\\frac{1}{1+e^{-(b_0+b_1*x_1+b_2*x_2+...+b_n*x_n)}}=\\frac{1}{2}(1+tanh(1+x)) $$\n",
    "\n",
    "avec $ b_0,b_1,b_2,...b_n $ les biais qui sont les coefficients que nous allons chercher à définir par la suite.\n",
    "\n",
    "\n",
    "Ces paramètres ne sont pas choisis aléatoirement, on peut les déduire en utilisant une méthode appelée <b>Stochastic gradient descent</b>, elle est définie par:\n",
    "\n",
    "$$ b_i=b_i+\\alpha x_i y_{predicted}(y_{expected}-y_{predicted})(1-y_{predicted}) $$\n",
    "\n",
    "avec $ \\alpha $ le taux d'apprentissage ( ou learning rate) qui dépends des problèmes. On peut définir $ \\alpha=0.01$ comme valeur par défaut ( ce cours étant une introduction nous ne rentrerons pas dans les détails de la façon d'obtenir ce taux).\n",
    "\n",
    "En pratique nous n'allons pas recoder tout cela à la main car ce serait assez complexe pour un cours d'introduction. Nous allons à la place utiliser une bibliothèque appelée <b>sklearn</b> conçue pour résoudre ce genre de problème.  \n",
    "\n"
   ]
  },
  {
   "cell_type": "code",
   "execution_count": 2,
   "metadata": {},
   "outputs": [
    {
     "data": {
      "text/plain": [
       "(6362620, 11)"
      ]
     },
     "execution_count": 2,
     "metadata": {},
     "output_type": "execute_result"
    }
   ],
   "source": [
    "#https://www.kaggle.com/ntnu-testimon/paysim1\n",
    "df = pd.read_csv(\"fraud_ds.csv\")\n",
    "df.head()\n",
    "df.shape"
   ]
  },
  {
   "cell_type": "code",
   "execution_count": 3,
   "metadata": {},
   "outputs": [
    {
     "data": {
      "text/html": [
       "<div>\n",
       "<style>\n",
       "    .dataframe thead tr:only-child th {\n",
       "        text-align: right;\n",
       "    }\n",
       "\n",
       "    .dataframe thead th {\n",
       "        text-align: left;\n",
       "    }\n",
       "\n",
       "    .dataframe tbody tr th {\n",
       "        vertical-align: top;\n",
       "    }\n",
       "</style>\n",
       "<table border=\"1\" class=\"dataframe\">\n",
       "  <thead>\n",
       "    <tr style=\"text-align: right;\">\n",
       "      <th></th>\n",
       "      <th>step</th>\n",
       "      <th>type</th>\n",
       "      <th>amount</th>\n",
       "      <th>nameOrig</th>\n",
       "      <th>oldbalanceOrg</th>\n",
       "      <th>newbalanceOrig</th>\n",
       "      <th>nameDest</th>\n",
       "      <th>oldbalanceDest</th>\n",
       "      <th>newbalanceDest</th>\n",
       "      <th>isFraud</th>\n",
       "      <th>isFlaggedFraud</th>\n",
       "    </tr>\n",
       "  </thead>\n",
       "  <tbody>\n",
       "    <tr>\n",
       "      <th>27368</th>\n",
       "      <td>8</td>\n",
       "      <td>PAYMENT</td>\n",
       "      <td>15546.80</td>\n",
       "      <td>C1941800559</td>\n",
       "      <td>38629.00</td>\n",
       "      <td>23082.20</td>\n",
       "      <td>M435448221</td>\n",
       "      <td>0.0</td>\n",
       "      <td>0.00</td>\n",
       "      <td>0</td>\n",
       "      <td>0</td>\n",
       "    </tr>\n",
       "    <tr>\n",
       "      <th>5914952</th>\n",
       "      <td>404</td>\n",
       "      <td>TRANSFER</td>\n",
       "      <td>10000000.00</td>\n",
       "      <td>C2023224715</td>\n",
       "      <td>12754759.04</td>\n",
       "      <td>2754759.04</td>\n",
       "      <td>C1730830963</td>\n",
       "      <td>0.0</td>\n",
       "      <td>0.00</td>\n",
       "      <td>1</td>\n",
       "      <td>0</td>\n",
       "    </tr>\n",
       "    <tr>\n",
       "      <th>39471</th>\n",
       "      <td>9</td>\n",
       "      <td>PAYMENT</td>\n",
       "      <td>25445.84</td>\n",
       "      <td>C1760388322</td>\n",
       "      <td>165432.54</td>\n",
       "      <td>139986.70</td>\n",
       "      <td>M1055218341</td>\n",
       "      <td>0.0</td>\n",
       "      <td>0.00</td>\n",
       "      <td>0</td>\n",
       "      <td>0</td>\n",
       "    </tr>\n",
       "    <tr>\n",
       "      <th>9804</th>\n",
       "      <td>7</td>\n",
       "      <td>CASH_IN</td>\n",
       "      <td>6288.28</td>\n",
       "      <td>C1015829779</td>\n",
       "      <td>6517609.49</td>\n",
       "      <td>6523897.77</td>\n",
       "      <td>C771404135</td>\n",
       "      <td>21351.0</td>\n",
       "      <td>15062.72</td>\n",
       "      <td>0</td>\n",
       "      <td>0</td>\n",
       "    </tr>\n",
       "    <tr>\n",
       "      <th>37978</th>\n",
       "      <td>9</td>\n",
       "      <td>PAYMENT</td>\n",
       "      <td>3632.44</td>\n",
       "      <td>C1855452714</td>\n",
       "      <td>25247.00</td>\n",
       "      <td>21614.56</td>\n",
       "      <td>M1623620251</td>\n",
       "      <td>0.0</td>\n",
       "      <td>0.00</td>\n",
       "      <td>0</td>\n",
       "      <td>0</td>\n",
       "    </tr>\n",
       "  </tbody>\n",
       "</table>\n",
       "</div>"
      ],
      "text/plain": [
       "         step      type       amount     nameOrig  oldbalanceOrg  \\\n",
       "27368       8   PAYMENT     15546.80  C1941800559       38629.00   \n",
       "5914952   404  TRANSFER  10000000.00  C2023224715    12754759.04   \n",
       "39471       9   PAYMENT     25445.84  C1760388322      165432.54   \n",
       "9804        7   CASH_IN      6288.28  C1015829779     6517609.49   \n",
       "37978       9   PAYMENT      3632.44  C1855452714       25247.00   \n",
       "\n",
       "         newbalanceOrig     nameDest  oldbalanceDest  newbalanceDest  isFraud  \\\n",
       "27368          23082.20   M435448221             0.0            0.00        0   \n",
       "5914952      2754759.04  C1730830963             0.0            0.00        1   \n",
       "39471         139986.70  M1055218341             0.0            0.00        0   \n",
       "9804         6523897.77   C771404135         21351.0        15062.72        0   \n",
       "37978          21614.56  M1623620251             0.0            0.00        0   \n",
       "\n",
       "         isFlaggedFraud  \n",
       "27368                 0  \n",
       "5914952               0  \n",
       "39471                 0  \n",
       "9804                  0  \n",
       "37978                 0  "
      ]
     },
     "execution_count": 3,
     "metadata": {},
     "output_type": "execute_result"
    }
   ],
   "source": [
    "df_isfraud = df.loc[df['isFraud'] == 1]\n",
    "df_isnotfraud = df.loc[df['isFraud'] == 0]\n",
    "\n",
    "df_isnotfraud = df_isnotfraud.iloc[0:50000,:]\n",
    "\n",
    "df = pd.concat([df_isfraud,df_isnotfraud],axis=0)\n",
    "\n",
    "from sklearn.utils import shuffle\n",
    "df = shuffle(df)\n",
    "\n",
    "X = df.drop(['isFlaggedFraud','isFraud'],axis=1)\n",
    "Y = df[\"isFraud\"]\n",
    "\n",
    "df.head()"
   ]
  },
  {
   "cell_type": "code",
   "execution_count": 8,
   "metadata": {},
   "outputs": [
    {
     "name": "stdout",
     "output_type": "stream",
     "text": [
      "         step  type       amount  nameOrig  oldbalanceOrg  newbalanceOrig  \\\n",
      "27368       8     3     15546.80     28317       38629.00        23082.20   \n",
      "5914952   404     4  10000000.00     30761    12754759.04      2754759.04   \n",
      "39471       9     3     25445.84     22797      165432.54       139986.70   \n",
      "9804        7     0      6288.28       475     6517609.49      6523897.77   \n",
      "37978       9     3      3632.44     25732       25247.00        21614.56   \n",
      "47043       9     3     17571.35     51499           0.00            0.00   \n",
      "266         1     3      2946.38     46815           0.00            0.00   \n",
      "2074482   182     4   1486052.97     31476     1486052.97            0.00   \n",
      "30600       8     4   1321660.45     28642     1423731.22       102070.77   \n",
      "12692       7     3       190.48     29920     5797624.73      5797434.25   \n",
      "5779        6     0     91867.60      6506     3752880.98      3844748.58   \n",
      "5962969   406     1    183385.35     37331      183385.35            0.00   \n",
      "8378        7     0    168865.24     56364       11972.36       180837.59   \n",
      "25424       8     1    169757.98     55377      101104.00            0.00   \n",
      "12279       7     3      6112.00     55152           0.00            0.00   \n",
      "19434       8     1    198698.81      1044           0.00            0.00   \n",
      "5727        6     3      3850.05     43107           0.00            0.00   \n",
      "30810       8     3     13067.61     15106       51861.96        38794.35   \n",
      "38070       9     3      7506.39      1218           0.00            0.00   \n",
      "47903       9     3     10803.13     28821       59886.00        49082.87   \n",
      "44398       9     4    954147.32     49263           0.00            0.00   \n",
      "7547        7     0     64525.15      9803     2136064.56      2200589.71   \n",
      "33872       8     3      7341.63     38618        6507.32            0.00   \n",
      "47186       9     3     23213.11     51605       13859.00            0.00   \n",
      "47481       9     1    120171.20     33248       59787.00            0.00   \n",
      "3192449   241     4     57734.59      8358       57734.59            0.00   \n",
      "45035       9     3      1286.02     22369       30017.00        28730.98   \n",
      "26778       8     0    153119.16       933     1886776.03      2039895.20   \n",
      "20381       8     0    154122.83     16921     4324218.05      4478340.87   \n",
      "4018        3     0     46505.13     45890     3783071.29      3829576.42   \n",
      "...       ...   ...          ...       ...            ...             ...   \n",
      "36764       9     3     11645.15       371       65810.79        54165.64   \n",
      "11149       7     3     10837.44     20419      202595.00       191757.56   \n",
      "6351217   702     4    573266.42      3169      573266.42            0.00   \n",
      "42811       9     1    380810.25      5174           0.00            0.00   \n",
      "401         1     0    311023.52      2311     2306779.82      2617803.34   \n",
      "25021       8     0      2155.13     35059        7319.00         9474.13   \n",
      "11554       7     3      7791.27      7531           0.00            0.00   \n",
      "30375       8     1    142101.72     36384           0.00            0.00   \n",
      "25459       8     3      8450.10     56179        3425.28            0.00   \n",
      "10019       7     3       666.64     19379        9158.00         8491.36   \n",
      "25437       8     3     15375.65     54774           0.00            0.00   \n",
      "20795       8     3      1601.25      1902       49925.00        48323.75   \n",
      "37184       9     0    342281.95     25317      219849.00       562130.95   \n",
      "28285       8     1    397246.80     27384           0.00            0.00   \n",
      "35160       9     3     39260.21      9650       11283.00            0.00   \n",
      "1030507    69     4   7728992.56     11742     7728992.56            0.00   \n",
      "46185       9     0    131017.84     42652       68945.00       199962.84   \n",
      "17936       8     0     56681.26     47016      164051.62       220732.87   \n",
      "2287        1     0    155608.53     28524     4225977.80      4381586.33   \n",
      "35124       9     0    230032.32     14247     1876859.98      2106892.30   \n",
      "4093        3     3       991.75      1263       16919.00        15927.25   \n",
      "2962        2     3      3382.36     29399         148.00            0.00   \n",
      "33367       8     1     44959.77      4211           0.00            0.00   \n",
      "48412       9     1      4402.41     54220        9793.92         5391.52   \n",
      "37868       9     3     26937.68     31853       34563.00         7625.32   \n",
      "10855       7     4    135457.75     24823       55242.00            0.00   \n",
      "25581       8     3     18513.07     15778        8222.00            0.00   \n",
      "41639       9     1    174560.72      5836       30171.00            0.00   \n",
      "47146       9     3     12872.50      4332       12796.00            0.00   \n",
      "31960       8     1    103910.99      3319      277638.39       173727.40   \n",
      "\n",
      "         nameDest  oldbalanceDest  newbalanceDest  \n",
      "27368       30115            0.00            0.00  \n",
      "5914952      5425            0.00            0.00  \n",
      "39471       15162            0.00            0.00  \n",
      "9804        12873        21351.00        15062.72  \n",
      "37978       21544            0.00            0.00  \n",
      "47043       21173            0.00            0.00  \n",
      "266         15566            0.00            0.00  \n",
      "2074482      5295            0.00            0.00  \n",
      "30600        6117      2308491.58      6023815.62  \n",
      "12692       17204            0.00            0.00  \n",
      "5779         2627      2332402.49      5188539.32  \n",
      "5962969      5957            0.00       183385.35  \n",
      "8378         7993       193021.83        24156.59  \n",
      "25424        9724          787.00       342825.58  \n",
      "12279       30990            0.00            0.00  \n",
      "19434        2371       340103.22        39790.43  \n",
      "5727        29339            0.00            0.00  \n",
      "30810       23181            0.00            0.00  \n",
      "38070       20666            0.00            0.00  \n",
      "47903       17263            0.00            0.00  \n",
      "44398       12191      5343377.80      6297525.12  \n",
      "7547         3295      6194370.23      6129845.09  \n",
      "33872       20356            0.00            0.00  \n",
      "47186       32212            0.00            0.00  \n",
      "47481        6478            0.00       307994.18  \n",
      "3192449     11556            0.00            0.00  \n",
      "45035       35681            0.00            0.00  \n",
      "26778        2723       236104.53        82985.37  \n",
      "20381         664       831146.76      1423850.27  \n",
      "4018         6241       224705.73       178200.60  \n",
      "...           ...             ...             ...  \n",
      "36764       34779            0.00            0.00  \n",
      "11149       32499            0.00            0.00  \n",
      "6351217      6337            0.00            0.00  \n",
      "42811       13374      9011990.32      9392800.56  \n",
      "401         12837      1477776.96            0.00  \n",
      "25021        6003            0.00            0.00  \n",
      "11554       24545            0.00            0.00  \n",
      "30375        7882      1986836.48      2128938.20  \n",
      "25459       35947            0.00            0.00  \n",
      "10019       17232            0.00            0.00  \n",
      "25437       33623            0.00            0.00  \n",
      "20795       23965            0.00            0.00  \n",
      "37184        6486         9040.00      2384388.22  \n",
      "28285       11968       676474.00       732054.05  \n",
      "35160       33143            0.00            0.00  \n",
      "1030507      7243            0.00            0.00  \n",
      "46185         773            0.00            0.00  \n",
      "17936        8160        86196.94        29515.69  \n",
      "2287        13734       371459.81       215851.28  \n",
      "35124        2763      1820155.85      1888584.70  \n",
      "4093        29141            0.00            0.00  \n",
      "2962        28046            0.00            0.00  \n",
      "33367       12978       135220.00       180179.77  \n",
      "48412        4246        10066.00            0.00  \n",
      "37868       35069            0.00            0.00  \n",
      "10855        5681          298.00            0.00  \n",
      "25581       25669            0.00            0.00  \n",
      "41639        3514        23013.03      2204009.60  \n",
      "47146       22804            0.00            0.00  \n",
      "31960        2885      5038256.49      5743302.38  \n",
      "\n",
      "[58213 rows x 9 columns]\n"
     ]
    }
   ],
   "source": [
    "#One hot encoder\n",
    "\n",
    "from sklearn.preprocessing import LabelEncoder, OneHotEncoder\n",
    "\n",
    "labelencoder_X_1 = LabelEncoder()\n",
    "X.iloc[:, 1] = labelencoder_X_1.fit_transform(X.iloc[:, 1])\n",
    "X.iloc[:, 3] = labelencoder_X_1.fit_transform(X.iloc[:, 3])\n",
    "X.iloc[:, 6] = labelencoder_X_1.fit_transform(X.iloc[:, 6])\n",
    "print(X)\n",
    "from sklearn.preprocessing import StandardScaler\n",
    "\n",
    "sc = StandardScaler()\n",
    "X = sc.fit_transform(X)\n",
    "X = sc.transform(X)\n"
   ]
  },
  {
   "cell_type": "code",
   "execution_count": 9,
   "metadata": {
    "collapsed": true
   },
   "outputs": [],
   "source": [
    "#Séparation en 3 échantillons\n",
    "\n",
    "from sklearn.model_selection import train_test_split\n",
    "from sklearn.linear_model import LogisticRegression\n",
    "\n",
    "X_train, X_test, y_train, y_test = train_test_split(X, Y, test_size=0.2)\n",
    "X_test, X_valid, y_test, y_valid = train_test_split(X_test, y_test, test_size=0.2)"
   ]
  },
  {
   "cell_type": "code",
   "execution_count": 10,
   "metadata": {
    "collapsed": true
   },
   "outputs": [],
   "source": [
    "clf = LogisticRegression(random_state=0, solver='lbfgs',multi_class='multinomial').fit(X_train, y_train)\n"
   ]
  },
  {
   "cell_type": "code",
   "execution_count": 11,
   "metadata": {},
   "outputs": [
    {
     "data": {
      "text/plain": [
       "array([0, 0, 0, ..., 0, 0, 0], dtype=int64)"
      ]
     },
     "execution_count": 11,
     "metadata": {},
     "output_type": "execute_result"
    }
   ],
   "source": [
    "clf.predict(X_test)"
   ]
  },
  {
   "cell_type": "code",
   "execution_count": 12,
   "metadata": {},
   "outputs": [
    {
     "data": {
      "text/plain": [
       "0.90691432252523085"
      ]
     },
     "execution_count": 12,
     "metadata": {},
     "output_type": "execute_result"
    }
   ],
   "source": [
    "clf.score(X_test, y_test)"
   ]
  },
  {
   "cell_type": "code",
   "execution_count": 13,
   "metadata": {
    "collapsed": true
   },
   "outputs": [],
   "source": [
    "def predictvalue(df,val):\n",
    "    valtest = df[val]\n",
    "    valtest = np.expand_dims(valtest, axis=0)\n",
    "    \n",
    "    return clf.predict(valtest)\n"
   ]
  },
  {
   "cell_type": "code",
   "execution_count": 14,
   "metadata": {},
   "outputs": [
    {
     "data": {
      "text/plain": [
       "array([0], dtype=int64)"
      ]
     },
     "execution_count": 14,
     "metadata": {},
     "output_type": "execute_result"
    }
   ],
   "source": [
    "predictvalue(X,4)"
   ]
  },
  {
   "cell_type": "code",
   "execution_count": 20,
   "metadata": {},
   "outputs": [
    {
     "data": {
      "image/png": "[encoded data removed]",
      "text/plain": [
       "<matplotlib.figure.Figure at 0x1e002e7be48>"
      ]
     },
     "metadata": {},
     "output_type": "display_data"
    }
   ],
   "source": [
    "corr_matrix = df.corr()\n",
    "\n",
    "import seaborn as sns; sns.set()\n",
    "sns.heatmap(corr_matrix,annot=True)\n",
    "sns.plt.show()"
   ]
  },
  {
   "cell_type": "markdown",
   "metadata": {
    "collapsed": true
   },
   "source": [
    "# Conclusion"
   ]
  },
  {
   "cell_type": "code",
   "execution_count": null,
   "metadata": {
    "collapsed": true
   },
   "outputs": [],
   "source": []
  }
 ],
 "metadata": {
  "kernelspec": {
   "display_name": "Python 3",
   "language": "python",
   "name": "python3"
  },
  "language_info": {
   "codemirror_mode": {
    "name": "ipython",
    "version": 3
   },
   "file_extension": ".py",
   "mimetype": "text/x-python",
   "name": "python",
   "nbconvert_exporter": "python",
   "pygments_lexer": "ipython3",
   "version": "3.6.1"
  }
 },
 "nbformat": 4,
 "nbformat_minor": 2
}
